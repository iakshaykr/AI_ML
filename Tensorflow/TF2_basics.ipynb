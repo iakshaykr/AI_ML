{
  "cells": [
    {
      "cell_type": "markdown",
      "metadata": {
        "colab_type": "text",
        "id": "view-in-github"
      },
      "source": [
        "<a href=\"https://colab.research.google.com/github/iakshaykr/AI_ML/blob/main/TF2_basics.ipynb\" target=\"_parent\"><img src=\"https://colab.research.google.com/assets/colab-badge.svg\" alt=\"Open In Colab\"/></a>"
      ]
    },
    {
      "cell_type": "markdown",
      "metadata": {
        "id": "Du7EeS1Xcb-q"
      },
      "source": [
        "To Install TF 2 in your local machine : https://www.tensorflow.org/install KBA"
      ]
    },
    {
      "cell_type": "code",
      "execution_count": 3,
      "metadata": {
        "colab": {
          "base_uri": "https://localhost:8080/"
        },
        "id": "pbMHORHnbhY2",
        "outputId": "3ef35c1d-f37a-4c95-fc96-546fadd2a08b"
      },
      "outputs": [
        {
          "name": "stdout",
          "output_type": "stream",
          "text": [
            "Name: pip\n",
            "Version: 23.1.2\n",
            "Summary: The PyPA recommended tool for installing Python packages.\n",
            "Home-page: https://pip.pypa.io/\n",
            "Author: The pip developers\n",
            "Author-email: distutils-sig@python.org\n",
            "License: MIT\n",
            "Location: /usr/local/lib/python3.10/dist-packages\n",
            "Requires: \n",
            "Required-by: fastai, pip-tools\n"
          ]
        }
      ],
      "source": [
        "!pip show pip"
      ]
    },
    {
      "cell_type": "code",
      "execution_count": 4,
      "metadata": {
        "colab": {
          "base_uri": "https://localhost:8080/"
        },
        "id": "QQfuZO8pcJIa",
        "outputId": "2fbbcb26-734b-46fc-efb4-5361b65b4eed"
      },
      "outputs": [
        {
          "name": "stdout",
          "output_type": "stream",
          "text": [
            "Name: tensorflow\n",
            "Version: 2.15.0\n",
            "Summary: TensorFlow is an open source machine learning framework for everyone.\n",
            "Home-page: https://www.tensorflow.org/\n",
            "Author: Google Inc.\n",
            "Author-email: packages@tensorflow.org\n",
            "License: Apache 2.0\n",
            "Location: /usr/local/lib/python3.10/dist-packages\n",
            "Requires: absl-py, astunparse, flatbuffers, gast, google-pasta, grpcio, h5py, keras, libclang, ml-dtypes, numpy, opt-einsum, packaging, protobuf, setuptools, six, tensorboard, tensorflow-estimator, tensorflow-io-gcs-filesystem, termcolor, typing-extensions, wrapt\n",
            "Required-by: dopamine_rl, tf_keras\n"
          ]
        }
      ],
      "source": [
        "!pip show tensorflow"
      ]
    },
    {
      "cell_type": "code",
      "execution_count": 5,
      "metadata": {
        "colab": {
          "base_uri": "https://localhost:8080/"
        },
        "id": "l7LWZS2gcVzN",
        "outputId": "0eaf8d60-2ab1-4735-e7dd-e77292d1d6c7"
      },
      "outputs": [
        {
          "name": "stdout",
          "output_type": "stream",
          "text": [
            "2.15.0\n"
          ]
        }
      ],
      "source": [
        "import tensorflow as tf\n",
        "print(tf.__version__)"
      ]
    },
    {
      "cell_type": "code",
      "execution_count": 6,
      "metadata": {
        "id": "V5KdiNO0cqrL"
      },
      "outputs": [],
      "source": [
        "import tensorflow as tf\n",
        "import numpy as np\n",
        "tf.debugging.set_log_device_placement(True)"
      ]
    },
    {
      "cell_type": "code",
      "execution_count": 16,
      "metadata": {
        "colab": {
          "base_uri": "https://localhost:8080/"
        },
        "id": "d9DKSGv8dAMT",
        "outputId": "8015df49-dd6c-4158-8bc8-925f73cfdba5"
      },
      "outputs": [
        {
          "data": {
            "text/plain": [
              "True"
            ]
          },
          "execution_count": 16,
          "metadata": {},
          "output_type": "execute_result"
        }
      ],
      "source": [
        "tf.executing_eagerly()"
      ]
    },
    {
      "cell_type": "markdown",
      "metadata": {
        "id": "Ws3X2lYEeJCP"
      },
      "source": [
        "Single Dimensional Array : Rank 0 - scalar   x=tf.constant(3)shape = ()"
      ]
    },
    {
      "cell_type": "code",
      "execution_count": 34,
      "metadata": {
        "colab": {
          "base_uri": "https://localhost:8080/"
        },
        "id": "EfNreJzcdLV_",
        "outputId": "ae4ede84-7a8e-419c-ece7-6b1f47ea9f96"
      },
      "outputs": [
        {
          "name": "stdout",
          "output_type": "stream",
          "text": [
            "tf.Tensor(3, shape=(), dtype=int32)\n"
          ]
        }
      ],
      "source": [
        "x0=tf.constant(3)\n",
        "print(x0)"
      ]
    },
    {
      "cell_type": "code",
      "execution_count": 35,
      "metadata": {
        "colab": {
          "base_uri": "https://localhost:8080/"
        },
        "id": "Mo4KZq89dWH8",
        "outputId": "9b59260f-5da4-4944-dc0e-4ed5029b469d"
      },
      "outputs": [
        {
          "data": {
            "text/plain": [
              "TensorShape([])"
            ]
          },
          "execution_count": 35,
          "metadata": {},
          "output_type": "execute_result"
        }
      ],
      "source": [
        "x0.shape"
      ]
    },
    {
      "cell_type": "code",
      "execution_count": 10,
      "metadata": {
        "colab": {
          "base_uri": "https://localhost:8080/"
        },
        "id": "ZimPVZhYddj7",
        "outputId": "bd3d664e-2884-4cbe-8ff7-ed8a734f6198"
      },
      "outputs": [
        {
          "data": {
            "text/plain": [
              "tf.int32"
            ]
          },
          "execution_count": 10,
          "metadata": {},
          "output_type": "execute_result"
        }
      ],
      "source": [
        "x0.dtype"
      ]
    },
    {
      "cell_type": "code",
      "execution_count": 11,
      "metadata": {
        "colab": {
          "base_uri": "https://localhost:8080/"
        },
        "id": "m15qoSCMdiGT",
        "outputId": "1a0bfe05-5210-4f64-f659-ab74873ebe9a"
      },
      "outputs": [
        {
          "data": {
            "text/plain": [
              "3"
            ]
          },
          "execution_count": 11,
          "metadata": {},
          "output_type": "execute_result"
        }
      ],
      "source": [
        "x0.numpy()"
      ]
    },
    {
      "cell_type": "code",
      "execution_count": 12,
      "metadata": {
        "colab": {
          "base_uri": "https://localhost:8080/"
        },
        "id": "NH7W15Dhdkty",
        "outputId": "6c145125-0760-4843-eec5-3593f7d139d3"
      },
      "outputs": [
        {
          "name": "stdout",
          "output_type": "stream",
          "text": [
            "Executing op _EagerConst in device /job:localhost/replica:0/task:0/device:GPU:0\n",
            "Executing op AddV2 in device /job:localhost/replica:0/task:0/device:GPU:0\n"
          ]
        },
        {
          "data": {
            "text/plain": [
              "<tf.Tensor: shape=(), dtype=int32, numpy=13>"
            ]
          },
          "execution_count": 12,
          "metadata": {},
          "output_type": "execute_result"
        }
      ],
      "source": [
        "res=x0+10\n",
        "res"
      ]
    },
    {
      "cell_type": "markdown",
      "metadata": {
        "id": "bzJCrIxXeeoV"
      },
      "source": [
        "Rank 1 - vector  \n",
        "\n",
        "  x=tf.constant([3,5,7])  shape = (3,)"
      ]
    },
    {
      "cell_type": "code",
      "execution_count": 13,
      "metadata": {
        "colab": {
          "base_uri": "https://localhost:8080/"
        },
        "id": "ZR8IaMHAektu",
        "outputId": "f08aa818-6541-4850-9840-af6d3cc6b8ff"
      },
      "outputs": [
        {
          "name": "stdout",
          "output_type": "stream",
          "text": [
            "Executing op _EagerConst in device /job:localhost/replica:0/task:0/device:GPU:0\n"
          ]
        },
        {
          "data": {
            "text/plain": [
              "<tf.Tensor: shape=(4,), dtype=float32, numpy=array([1.1, 2.2, 3.3, 4.4], dtype=float32)>"
            ]
          },
          "execution_count": 13,
          "metadata": {},
          "output_type": "execute_result"
        }
      ],
      "source": [
        "x1=tf.constant([1.1,2.2,3.3,4.4])\n",
        "x1"
      ]
    },
    {
      "cell_type": "code",
      "execution_count": 14,
      "metadata": {
        "colab": {
          "base_uri": "https://localhost:8080/"
        },
        "id": "uMflvA_pe7d4",
        "outputId": "a2536709-1f52-4028-99d1-5e52bdb6a793"
      },
      "outputs": [
        {
          "name": "stdout",
          "output_type": "stream",
          "text": [
            "Executing op _EagerConst in device /job:localhost/replica:0/task:0/device:GPU:0\n",
            "Executing op AddV2 in device /job:localhost/replica:0/task:0/device:GPU:0\n"
          ]
        },
        {
          "data": {
            "text/plain": [
              "<tf.Tensor: shape=(4,), dtype=float32, numpy=array([6.1, 7.2, 8.3, 9.4], dtype=float32)>"
            ]
          },
          "execution_count": 14,
          "metadata": {},
          "output_type": "execute_result"
        }
      ],
      "source": [
        "res0=x1+5\n",
        "res0"
      ]
    },
    {
      "cell_type": "code",
      "execution_count": 15,
      "metadata": {
        "colab": {
          "base_uri": "https://localhost:8080/"
        },
        "id": "SB-H7LfDfJ1U",
        "outputId": "6494552c-bdf8-4325-b0db-5abd11ba2bcb"
      },
      "outputs": [
        {
          "name": "stdout",
          "output_type": "stream",
          "text": [
            "Executing op _EagerConst in device /job:localhost/replica:0/task:0/device:GPU:0\n",
            "Executing op AddV2 in device /job:localhost/replica:0/task:0/device:GPU:0\n"
          ]
        },
        {
          "data": {
            "text/plain": [
              "<tf.Tensor: shape=(4,), dtype=float32, numpy=array([6.1, 7.2, 8.3, 9.4], dtype=float32)>"
            ]
          },
          "execution_count": 15,
          "metadata": {},
          "output_type": "execute_result"
        }
      ],
      "source": [
        "res0=tf.add(x1 , tf.constant(5.0))\n",
        "res0"
      ]
    },
    {
      "cell_type": "markdown",
      "metadata": {
        "id": "3nzbr-cGf3Ga"
      },
      "source": [
        "Rank 2 - matrix    x=tf.constant([3,5,7],[4,6,8]) shape = (2,3)"
      ]
    },
    {
      "cell_type": "code",
      "execution_count": 16,
      "metadata": {
        "colab": {
          "base_uri": "https://localhost:8080/"
        },
        "id": "pLZQA0YofWus",
        "outputId": "e1cba0f3-0cc0-40bf-9c62-d97037b1df48"
      },
      "outputs": [
        {
          "name": "stdout",
          "output_type": "stream",
          "text": [
            "Executing op _EagerConst in device /job:localhost/replica:0/task:0/device:GPU:0\n"
          ]
        },
        {
          "data": {
            "text/plain": [
              "<tf.Tensor: shape=(2, 4), dtype=int32, numpy=\n",
              "array([[2, 2, 4, 5],\n",
              "       [5, 5, 7, 9]], dtype=int32)>"
            ]
          },
          "execution_count": 16,
          "metadata": {},
          "output_type": "execute_result"
        }
      ],
      "source": [
        "res1=tf.constant([[2,2,4,5],[5,5,7,9]])\n",
        "res1"
      ]
    },
    {
      "cell_type": "code",
      "execution_count": 17,
      "metadata": {
        "colab": {
          "base_uri": "https://localhost:8080/"
        },
        "id": "SkchUz_CfiqM",
        "outputId": "414ad06a-5f09-4b0a-970e-60f4657a5bd6"
      },
      "outputs": [
        {
          "data": {
            "text/plain": [
              "True"
            ]
          },
          "execution_count": 17,
          "metadata": {},
          "output_type": "execute_result"
        }
      ],
      "source": [
        "tf.is_tensor(res1)"
      ]
    },
    {
      "cell_type": "code",
      "execution_count": 18,
      "metadata": {
        "colab": {
          "base_uri": "https://localhost:8080/"
        },
        "id": "9gDahe0sgSie",
        "outputId": "dd441d53-5d32-4f5c-8cdd-a252b7e23010"
      },
      "outputs": [
        {
          "data": {
            "text/plain": [
              "TensorShape([2, 4])"
            ]
          },
          "execution_count": 18,
          "metadata": {},
          "output_type": "execute_result"
        }
      ],
      "source": [
        "res1.shape"
      ]
    },
    {
      "cell_type": "code",
      "execution_count": 19,
      "metadata": {
        "colab": {
          "base_uri": "https://localhost:8080/"
        },
        "id": "qcO_45LegWS4",
        "outputId": "33691cdc-b30a-4c61-ba39-5f1611a84b7f"
      },
      "outputs": [
        {
          "data": {
            "text/plain": [
              "<tf.Tensor: shape=(2, 4), dtype=int32, numpy=\n",
              "array([[2, 2, 4, 5],\n",
              "       [5, 5, 7, 9]], dtype=int32)>"
            ]
          },
          "execution_count": 19,
          "metadata": {},
          "output_type": "execute_result"
        }
      ],
      "source": [
        "tf.convert_to_tensor(res1)"
      ]
    },
    {
      "cell_type": "code",
      "execution_count": 20,
      "metadata": {
        "colab": {
          "base_uri": "https://localhost:8080/"
        },
        "id": "EwcfLoiDhvOa",
        "outputId": "dfafc9bd-cbf3-4887-b4ec-c3744757e0f9"
      },
      "outputs": [
        {
          "data": {
            "text/plain": [
              "<tf.Tensor: shape=(2, 4), dtype=int32, numpy=\n",
              "array([[2, 2, 4, 5],\n",
              "       [5, 5, 7, 9]], dtype=int32)>"
            ]
          },
          "execution_count": 20,
          "metadata": {},
          "output_type": "execute_result"
        }
      ],
      "source": [
        "res1"
      ]
    },
    {
      "cell_type": "code",
      "execution_count": 21,
      "metadata": {
        "colab": {
          "base_uri": "https://localhost:8080/"
        },
        "id": "HjgHfrayuLKw",
        "outputId": "4f725979-0596-44e3-c748-e61d71b726b3"
      },
      "outputs": [
        {
          "data": {
            "text/plain": [
              "array([[2, 2, 4, 5],\n",
              "       [5, 5, 7, 9]], dtype=int32)"
            ]
          },
          "execution_count": 21,
          "metadata": {},
          "output_type": "execute_result"
        }
      ],
      "source": [
        "res1.numpy()"
      ]
    },
    {
      "cell_type": "code",
      "execution_count": 22,
      "metadata": {
        "colab": {
          "base_uri": "https://localhost:8080/"
        },
        "id": "1_ZMpEGCuwvR",
        "outputId": "e37509b2-5f04-4218-ad02-b98c7971bce8"
      },
      "outputs": [
        {
          "name": "stdout",
          "output_type": "stream",
          "text": [
            "Executing op _EagerConst in device /job:localhost/replica:0/task:0/device:GPU:0\n",
            "Executing op _EagerConst in device /job:localhost/replica:0/task:0/device:GPU:0\n",
            "Executing op Fill in device /job:localhost/replica:0/task:0/device:GPU:0\n"
          ]
        },
        {
          "data": {
            "text/plain": [
              "<tf.Tensor: shape=(3, 5), dtype=int32, numpy=\n",
              "array([[0, 0, 0, 0, 0],\n",
              "       [0, 0, 0, 0, 0],\n",
              "       [0, 0, 0, 0, 0]], dtype=int32)>"
            ]
          },
          "execution_count": 22,
          "metadata": {},
          "output_type": "execute_result"
        }
      ],
      "source": [
        "t0 = tf.zeros([3, 5], tf.int32)\n",
        "\n",
        "t0"
      ]
    },
    {
      "cell_type": "code",
      "execution_count": 23,
      "metadata": {
        "colab": {
          "base_uri": "https://localhost:8080/"
        },
        "id": "TnwOeosIw50P",
        "outputId": "0886350c-7efd-4b7b-9194-4e1d2606c960"
      },
      "outputs": [
        {
          "name": "stdout",
          "output_type": "stream",
          "text": [
            "Executing op _EagerConst in device /job:localhost/replica:0/task:0/device:GPU:0\n",
            "Executing op _EagerConst in device /job:localhost/replica:0/task:0/device:GPU:0\n",
            "Executing op Fill in device /job:localhost/replica:0/task:0/device:GPU:0\n"
          ]
        },
        {
          "data": {
            "text/plain": [
              "<tf.Tensor: shape=(3, 5), dtype=int32, numpy=\n",
              "array([[1, 1, 1, 1, 1],\n",
              "       [1, 1, 1, 1, 1],\n",
              "       [1, 1, 1, 1, 1]], dtype=int32)>"
            ]
          },
          "execution_count": 23,
          "metadata": {},
          "output_type": "execute_result"
        }
      ],
      "source": [
        "t1 = tf.ones([3, 5], tf.int32)\n",
        "\n",
        "t1"
      ]
    },
    {
      "cell_type": "code",
      "execution_count": 3,
      "metadata": {
        "id": "h_6GOfJ_0eUO"
      },
      "outputs": [],
      "source": [
        "import tensorflow as tf\n",
        "import numpy as np"
      ]
    },
    {
      "cell_type": "code",
      "execution_count": 4,
      "metadata": {
        "colab": {
          "base_uri": "https://localhost:8080/"
        },
        "id": "Ip56uEIExAWW",
        "outputId": "58f7b6b9-89a7-42b7-a5f9-3f452535f64f"
      },
      "outputs": [
        {
          "data": {
            "text/plain": [
              "<tf.Variable 'Variable:0' shape=(2, 3) dtype=float32, numpy=\n",
              "array([[1.5, 2. , 5. ],\n",
              "       [2. , 6. , 8. ]], dtype=float32)>"
            ]
          },
          "execution_count": 4,
          "metadata": {},
          "output_type": "execute_result"
        }
      ],
      "source": [
        "v1 = tf.Variable([[1.5, 2, 5], [2, 6, 8]])\n",
        "\n",
        "v1"
      ]
    },
    {
      "cell_type": "code",
      "execution_count": 5,
      "metadata": {
        "colab": {
          "base_uri": "https://localhost:8080/"
        },
        "id": "pB35zgPLxVOo",
        "outputId": "688d4494-54ea-4e1f-b1f2-84950da33033"
      },
      "outputs": [
        {
          "data": {
            "text/plain": [
              "<tf.Variable 'Variable:0' shape=(2, 3) dtype=int32, numpy=\n",
              "array([[1, 2, 3],\n",
              "       [4, 5, 6]], dtype=int32)>"
            ]
          },
          "execution_count": 5,
          "metadata": {},
          "output_type": "execute_result"
        }
      ],
      "source": [
        "v2 = tf.Variable([[1, 2, 3], [4, 5, 6]])\n",
        "\n",
        "v2"
      ]
    },
    {
      "cell_type": "code",
      "execution_count": 8,
      "metadata": {
        "colab": {
          "base_uri": "https://localhost:8080/"
        },
        "id": "2KtVaNCQyZTE",
        "outputId": "ecb24814-e421-4f61-e255-556d6392e153"
      },
      "outputs": [
        {
          "data": {
            "text/plain": [
              "<tf.Variable 'Variable:0' shape=(2, 3) dtype=float32, numpy=\n",
              "array([[1., 2., 3.],\n",
              "       [4., 5., 6.]], dtype=float32)>"
            ]
          },
          "execution_count": 8,
          "metadata": {},
          "output_type": "execute_result"
        }
      ],
      "source": [
        "v2 = tf.Variable([[1, 2, 3], [4, 5, 6]], dtype=tf.float32)\n",
        "\n",
        "v2"
      ]
    },
    {
      "cell_type": "code",
      "execution_count": 9,
      "metadata": {
        "colab": {
          "base_uri": "https://localhost:8080/"
        },
        "id": "0ExmBCu_xYeU",
        "outputId": "cc8a4505-c309-4322-d91e-391fb02a9a5d"
      },
      "outputs": [
        {
          "data": {
            "text/plain": [
              "<tf.Tensor: shape=(2, 3), dtype=float32, numpy=\n",
              "array([[ 2.5,  4. ,  8. ],\n",
              "       [ 6. , 11. , 14. ]], dtype=float32)>"
            ]
          },
          "execution_count": 9,
          "metadata": {},
          "output_type": "execute_result"
        }
      ],
      "source": [
        "tf.add(v1, v2)"
      ]
    },
    {
      "cell_type": "code",
      "execution_count": 10,
      "metadata": {
        "colab": {
          "base_uri": "https://localhost:8080/"
        },
        "id": "78sFyi_cxb92",
        "outputId": "a0c56c7a-ca3e-4147-c047-699a6211b392"
      },
      "outputs": [
        {
          "data": {
            "text/plain": [
              "<tf.Tensor: shape=(2, 3), dtype=float32, numpy=\n",
              "array([[1.5, 2. , 5. ],\n",
              "       [2. , 6. , 8. ]], dtype=float32)>"
            ]
          },
          "execution_count": 10,
          "metadata": {},
          "output_type": "execute_result"
        }
      ],
      "source": [
        "tf.convert_to_tensor(v1)"
      ]
    },
    {
      "cell_type": "code",
      "execution_count": 11,
      "metadata": {
        "colab": {
          "base_uri": "https://localhost:8080/"
        },
        "id": "MTJTQxHCzbhW",
        "outputId": "87653626-5c79-4a3f-8865-59221e4bc7ba"
      },
      "outputs": [
        {
          "data": {
            "text/plain": [
              "array([[1.5, 2. , 5. ],\n",
              "       [2. , 6. , 8. ]], dtype=float32)"
            ]
          },
          "execution_count": 11,
          "metadata": {},
          "output_type": "execute_result"
        }
      ],
      "source": [
        "v1.numpy()"
      ]
    },
    {
      "cell_type": "code",
      "execution_count": 12,
      "metadata": {
        "colab": {
          "base_uri": "https://localhost:8080/"
        },
        "id": "MPNPaNFszwre",
        "outputId": "0b882ae7-99ad-47ce-dcae-2ec7b6a781fd"
      },
      "outputs": [
        {
          "data": {
            "text/plain": [
              "<tf.Variable 'Variable:0' shape=(2, 3) dtype=float32, numpy=\n",
              "array([[1.5, 2. , 5. ],\n",
              "       [2. , 6. , 8. ]], dtype=float32)>"
            ]
          },
          "execution_count": 12,
          "metadata": {},
          "output_type": "execute_result"
        }
      ],
      "source": [
        "v1"
      ]
    },
    {
      "cell_type": "code",
      "execution_count": 13,
      "metadata": {
        "colab": {
          "base_uri": "https://localhost:8080/"
        },
        "id": "HiK_p-SmzbwY",
        "outputId": "077a1a5a-46a7-4258-a41f-85e0ecbcf6c3"
      },
      "outputs": [
        {
          "data": {
            "text/plain": [
              "<tf.Variable 'Variable:0' shape=(2, 3) dtype=float32, numpy=\n",
              "array([[10., 20., 30.],\n",
              "       [40., 50., 60.]], dtype=float32)>"
            ]
          },
          "execution_count": 13,
          "metadata": {},
          "output_type": "execute_result"
        }
      ],
      "source": [
        "v1.assign([[10, 20, 30], [40, 50, 60]])\n",
        "\n",
        "v1"
      ]
    },
    {
      "cell_type": "code",
      "execution_count": 14,
      "metadata": {
        "colab": {
          "base_uri": "https://localhost:8080/"
        },
        "id": "urHVJIYhzkqG",
        "outputId": "03abed58-232b-4998-9c2e-aa331e804803"
      },
      "outputs": [
        {
          "data": {
            "text/plain": [
              "<tf.Variable 'Variable:0' shape=(2, 3) dtype=float32, numpy=\n",
              "array([[100.,  20.,  30.],\n",
              "       [ 40.,  50.,  60.]], dtype=float32)>"
            ]
          },
          "execution_count": 14,
          "metadata": {},
          "output_type": "execute_result"
        }
      ],
      "source": [
        "v1[0, 0].assign(100)\n",
        "\n",
        "v1"
      ]
    },
    {
      "cell_type": "code",
      "execution_count": 15,
      "metadata": {
        "colab": {
          "base_uri": "https://localhost:8080/"
        },
        "id": "s8eG6isZzn3G",
        "outputId": "d76cdb09-6181-4f25-a26d-9ebec2aee58f"
      },
      "outputs": [
        {
          "data": {
            "text/plain": [
              "<tf.Variable 'Variable:0' shape=(2, 3) dtype=float32, numpy=\n",
              "array([[101.,  21.,  31.],\n",
              "       [ 41.,  51.,  61.]], dtype=float32)>"
            ]
          },
          "execution_count": 15,
          "metadata": {},
          "output_type": "execute_result"
        }
      ],
      "source": [
        "v1.assign_add([[1, 1, 1], [1, 1, 1]])\n",
        "\n",
        "v1"
      ]
    },
    {
      "cell_type": "code",
      "execution_count": 18,
      "metadata": {
        "id": "gg9AlYgi05j5"
      },
      "outputs": [],
      "source": [
        "%load_ext tensorboard"
      ]
    },
    {
      "cell_type": "code",
      "execution_count": 27,
      "metadata": {
        "colab": {
          "base_uri": "https://localhost:8080/",
          "height": 267
        },
        "id": "Cgj3J5za2aHj",
        "outputId": "83d95f5e-a678-4b6c-b2a8-c1a178e2dd0a"
      },
      "outputs": [
        {
          "data": {
            "text/plain": [
              "ERROR: Failed to launch TensorBoard (exited with 2).\n",
              "Contents of stderr:\n",
              "2024-07-13 16:14:17.135261: E external/local_xla/xla/stream_executor/cuda/cuda_dnn.cc:9261] Unable to register cuDNN factory: Attempting to register factory for plugin cuDNN when one has already been registered\n",
              "2024-07-13 16:14:17.135342: E external/local_xla/xla/stream_executor/cuda/cuda_fft.cc:607] Unable to register cuFFT factory: Attempting to register factory for plugin cuFFT when one has already been registered\n",
              "2024-07-13 16:14:17.136684: E external/local_xla/xla/stream_executor/cuda/cuda_blas.cc:1515] Unable to register cuBLAS factory: Attempting to register factory for plugin cuBLAS when one has already been registered\n",
              "2024-07-13 16:14:18.498244: W tensorflow/compiler/tf2tensorrt/utils/py_utils.cc:38] TF-TRT Warning: Could not find TensorRT\n",
              "usage: tensorboard dev [-h] [--helpfull] [--origin ORIGIN] [--api_endpoint API_ENDPOINT]\n",
              "                       [--grpc_creds_type {local,ssl,ssl_dev}] [--auth_force_console]\n",
              "                       {upload,update-metadata,delete,list,export,auth} ...\n",
              "tensorboard dev: error: argument {upload,update-metadata,delete,list,export,auth}: invalid choice: '6060' (choose from 'upload', 'update-metadata', 'delete', 'list', 'export', 'auth')"
            ]
          },
          "metadata": {},
          "output_type": "display_data"
        }
      ],
      "source": [
        "%tensorboard --logdir=\"./logs\" dev 6060"
      ]
    },
    {
      "cell_type": "code",
      "execution_count": 23,
      "metadata": {
        "colab": {
          "base_uri": "https://localhost:8080/"
        },
        "id": "eSQQE5nc2pfo",
        "outputId": "e0d8bc0d-f486-4323-f7e8-3be5f6ab5c0d"
      },
      "outputs": [
        {
          "name": "stdout",
          "output_type": "stream",
          "text": [
            "Num GPUs Available:  0\n"
          ]
        }
      ],
      "source": [
        "import tensorflow as tf\n",
        "print(\"Num GPUs Available: \", len(tf.config.list_physical_devices('GPU')))"
      ]
    },
    {
      "cell_type": "code",
      "execution_count": 25,
      "metadata": {
        "colab": {
          "base_uri": "https://localhost:8080/"
        },
        "id": "6lEuA2m22uyD",
        "outputId": "3ed1876c-b3d2-4881-99cb-c3a58fc405d4"
      },
      "outputs": [
        {
          "name": "stdout",
          "output_type": "stream",
          "text": [
            "Num CPUs Available:  1\n"
          ]
        }
      ],
      "source": [
        "import tensorflow as tf\n",
        "print(\"Num CPUs Available: \", len(tf.config.list_physical_devices('CPU')))"
      ]
    },
    {
      "cell_type": "code",
      "execution_count": 29,
      "metadata": {
        "colab": {
          "base_uri": "https://localhost:8080/"
        },
        "id": "xoGdf9P23Nse",
        "outputId": "89019e90-d3ec-445d-af42-98c5323d5661"
      },
      "outputs": [
        {
          "data": {
            "text/plain": [
              "<tf.Tensor: shape=(2, 3), dtype=int32, numpy=\n",
              "array([[4, 5, 6],\n",
              "       [4, 5, 6]], dtype=int32)>"
            ]
          },
          "execution_count": 29,
          "metadata": {},
          "output_type": "execute_result"
        }
      ],
      "source": [
        "y=tf.constant([[4,5,6],[4,5,6]])\n",
        "y"
      ]
    },
    {
      "cell_type": "code",
      "execution_count": 30,
      "metadata": {
        "colab": {
          "base_uri": "https://localhost:8080/"
        },
        "id": "L2XX7liJ4rIb",
        "outputId": "48a21156-7a76-4823-aed4-88ae70172a63"
      },
      "outputs": [
        {
          "data": {
            "text/plain": [
              "TensorShape([2, 3])"
            ]
          },
          "execution_count": 30,
          "metadata": {},
          "output_type": "execute_result"
        }
      ],
      "source": [
        "y.shape"
      ]
    },
    {
      "cell_type": "code",
      "execution_count": 33,
      "metadata": {
        "colab": {
          "base_uri": "https://localhost:8080/"
        },
        "id": "eHK_dwR54uoO",
        "outputId": "e4170d01-9777-4b44-a8aa-184a45ac0168"
      },
      "outputs": [
        {
          "data": {
            "text/plain": [
              "<tf.Tensor: shape=(2, 3), dtype=int32, numpy=\n",
              "array([[14, 15, 16],\n",
              "       [14, 15, 16]], dtype=int32)>"
            ]
          },
          "execution_count": 33,
          "metadata": {},
          "output_type": "execute_result"
        }
      ],
      "source": [
        "x=tf.add(y,10)\n",
        "x"
      ]
    },
    {
      "cell_type": "code",
      "execution_count": null,
      "metadata": {
        "id": "9H8PTki14yTR"
      },
      "outputs": [],
      "source": []
    }
  ],
  "metadata": {
    "colab": {
      "authorship_tag": "ABX9TyOgLPJPZ6VAfzg2S8B5r5yO",
      "include_colab_link": true,
      "provenance": []
    },
    "kernelspec": {
      "display_name": "Python 3",
      "name": "python3"
    },
    "language_info": {
      "name": "python"
    }
  },
  "nbformat": 4,
  "nbformat_minor": 0
}
